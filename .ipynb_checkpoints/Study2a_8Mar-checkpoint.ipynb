{
 "cells": [
  {
   "cell_type": "markdown",
   "metadata": {
    "id": "ftLjB_3X4hFd"
   },
   "source": [
    "# Study 2a Initial Results"
   ]
  },
  {
   "cell_type": "markdown",
   "metadata": {},
   "source": [
    "Statistical Computing is done in Python for this section. In this section, I build a Random Forest Regressor to consider variables that I found were important to consider for school safety, within the literature. These are the same set of Variables found in Study 1. I am interested specifically in the permutation importance scores arising from nonlinear machine learning models, and how it might be a valuable companion or alternative to linear regressions, in the case of high-dimensional datasets that cause problems for linear regressions under the Gauss-Markow assumptions."
   ]
  },
  {
   "cell_type": "code",
   "execution_count": null,
   "metadata": {
    "id": "R6swuvDv4hFk"
   },
   "outputs": [],
   "source": [
    "import pandas as pd\n",
    "import numpy as np \n",
    "import matplotlib.pyplot as plt\n",
    "\n",
    "from sklearn.preprocessing import LabelEncoder\n",
    "from sklearn.model_selection import train_test_split, RandomizedSearchCV, GridSearchCV\n",
    "from sklearn.inspection import permutation_importance\n",
    "from sklearn.ensemble import RandomForestRegressor\n",
    "\n",
    "from sklearn.metrics import accuracy_score\n",
    "from sklearn.metrics import f1_score\n",
    "from sklearn.metrics import precision_score\n",
    "from sklearn.metrics import recall_score\n",
    "from sklearn.metrics import roc_auc_score\n",
    "from sklearn.metrics import mean_squared_error\n",
    "from sklearn.metrics import r2_score\n",
    "from sklearn.metrics import mean_absolute_error\n",
    "import pandas as pd\n",
    "from math import sqrt"
   ]
  },
  {
   "cell_type": "code",
   "execution_count": null,
   "metadata": {
    "id": "7JpYb0U64hFl"
   },
   "outputs": [],
   "source": [
    "df = pd.read_csv('/Users/kagenlim/Documents/GitHub/MA-Thesis/preprocessedstudy1.csv')"
   ]
  },
  {
   "cell_type": "code",
   "execution_count": null,
   "metadata": {
    "id": "MGzK7Hu14hFm",
    "outputId": "1c538477-0ab1-4e09-9a3f-d0ddc4c7f904"
   },
   "outputs": [
    {
     "data": {
      "text/html": [
       "<div>\n",
       "<style scoped>\n",
       "    .dataframe tbody tr th:only-of-type {\n",
       "        vertical-align: middle;\n",
       "    }\n",
       "\n",
       "    .dataframe tbody tr th {\n",
       "        vertical-align: top;\n",
       "    }\n",
       "\n",
       "    .dataframe thead th {\n",
       "        text-align: right;\n",
       "    }\n",
       "</style>\n",
       "<table border=\"1\" class=\"dataframe\">\n",
       "  <thead>\n",
       "    <tr style=\"text-align: right;\">\n",
       "      <th></th>\n",
       "      <th>total_incidentslog1p</th>\n",
       "      <th>percentlowgradeslog1p</th>\n",
       "      <th>percentacadnotimptlog1p</th>\n",
       "      <th>school_size</th>\n",
       "      <th>urban</th>\n",
       "      <th>crime_live_recode</th>\n",
       "      <th>crime_area_recode</th>\n",
       "      <th>school_type</th>\n",
       "      <th>visitor_badge</th>\n",
       "      <th>control_building</th>\n",
       "      <th>...</th>\n",
       "      <th>privatehelp_drug</th>\n",
       "      <th>relighelp_drug</th>\n",
       "      <th>prevention_curriculum</th>\n",
       "      <th>sel</th>\n",
       "      <th>behav_mod</th>\n",
       "      <th>mentoring</th>\n",
       "      <th>peer_mediation</th>\n",
       "      <th>student_court</th>\n",
       "      <th>restorative_circles</th>\n",
       "      <th>promote_community</th>\n",
       "    </tr>\n",
       "  </thead>\n",
       "  <tbody>\n",
       "    <tr>\n",
       "      <th>0</th>\n",
       "      <td>2.397895</td>\n",
       "      <td>2.772589</td>\n",
       "      <td>3.433987</td>\n",
       "      <td>3</td>\n",
       "      <td>1</td>\n",
       "      <td>1</td>\n",
       "      <td>1</td>\n",
       "      <td>Middle_Combined</td>\n",
       "      <td>1</td>\n",
       "      <td>1</td>\n",
       "      <td>...</td>\n",
       "      <td>0</td>\n",
       "      <td>0</td>\n",
       "      <td>1</td>\n",
       "      <td>1</td>\n",
       "      <td>1</td>\n",
       "      <td>1</td>\n",
       "      <td>0</td>\n",
       "      <td>0</td>\n",
       "      <td>0</td>\n",
       "      <td>1</td>\n",
       "    </tr>\n",
       "    <tr>\n",
       "      <th>1</th>\n",
       "      <td>2.833213</td>\n",
       "      <td>1.791759</td>\n",
       "      <td>4.394449</td>\n",
       "      <td>2</td>\n",
       "      <td>0</td>\n",
       "      <td>1</td>\n",
       "      <td>1</td>\n",
       "      <td>Middle_Combined</td>\n",
       "      <td>1</td>\n",
       "      <td>1</td>\n",
       "      <td>...</td>\n",
       "      <td>0</td>\n",
       "      <td>0</td>\n",
       "      <td>1</td>\n",
       "      <td>0</td>\n",
       "      <td>1</td>\n",
       "      <td>1</td>\n",
       "      <td>0</td>\n",
       "      <td>0</td>\n",
       "      <td>0</td>\n",
       "      <td>0</td>\n",
       "    </tr>\n",
       "    <tr>\n",
       "      <th>2</th>\n",
       "      <td>2.564949</td>\n",
       "      <td>1.791759</td>\n",
       "      <td>1.791759</td>\n",
       "      <td>3</td>\n",
       "      <td>1</td>\n",
       "      <td>1</td>\n",
       "      <td>1</td>\n",
       "      <td>Middle_Combined</td>\n",
       "      <td>1</td>\n",
       "      <td>1</td>\n",
       "      <td>...</td>\n",
       "      <td>1</td>\n",
       "      <td>1</td>\n",
       "      <td>1</td>\n",
       "      <td>1</td>\n",
       "      <td>1</td>\n",
       "      <td>1</td>\n",
       "      <td>1</td>\n",
       "      <td>0</td>\n",
       "      <td>0</td>\n",
       "      <td>1</td>\n",
       "    </tr>\n",
       "    <tr>\n",
       "      <th>3</th>\n",
       "      <td>3.258097</td>\n",
       "      <td>2.397895</td>\n",
       "      <td>2.772589</td>\n",
       "      <td>4</td>\n",
       "      <td>1</td>\n",
       "      <td>1</td>\n",
       "      <td>1</td>\n",
       "      <td>High</td>\n",
       "      <td>1</td>\n",
       "      <td>1</td>\n",
       "      <td>...</td>\n",
       "      <td>1</td>\n",
       "      <td>1</td>\n",
       "      <td>1</td>\n",
       "      <td>1</td>\n",
       "      <td>1</td>\n",
       "      <td>1</td>\n",
       "      <td>1</td>\n",
       "      <td>0</td>\n",
       "      <td>1</td>\n",
       "      <td>1</td>\n",
       "    </tr>\n",
       "    <tr>\n",
       "      <th>4</th>\n",
       "      <td>1.098612</td>\n",
       "      <td>1.386294</td>\n",
       "      <td>1.098612</td>\n",
       "      <td>3</td>\n",
       "      <td>1</td>\n",
       "      <td>1</td>\n",
       "      <td>1</td>\n",
       "      <td>Middle_Combined</td>\n",
       "      <td>1</td>\n",
       "      <td>1</td>\n",
       "      <td>...</td>\n",
       "      <td>0</td>\n",
       "      <td>0</td>\n",
       "      <td>1</td>\n",
       "      <td>0</td>\n",
       "      <td>1</td>\n",
       "      <td>1</td>\n",
       "      <td>0</td>\n",
       "      <td>0</td>\n",
       "      <td>0</td>\n",
       "      <td>0</td>\n",
       "    </tr>\n",
       "  </tbody>\n",
       "</table>\n",
       "<p>5 rows × 49 columns</p>\n",
       "</div>"
      ],
      "text/plain": [
       "   total_incidentslog1p  percentlowgradeslog1p  percentacadnotimptlog1p  \\\n",
       "0              2.397895               2.772589                 3.433987   \n",
       "1              2.833213               1.791759                 4.394449   \n",
       "2              2.564949               1.791759                 1.791759   \n",
       "3              3.258097               2.397895                 2.772589   \n",
       "4              1.098612               1.386294                 1.098612   \n",
       "\n",
       "   school_size  urban  crime_live_recode  crime_area_recode      school_type  \\\n",
       "0            3      1                  1                  1  Middle_Combined   \n",
       "1            2      0                  1                  1  Middle_Combined   \n",
       "2            3      1                  1                  1  Middle_Combined   \n",
       "3            4      1                  1                  1             High   \n",
       "4            3      1                  1                  1  Middle_Combined   \n",
       "\n",
       "   visitor_badge  control_building  ...  privatehelp_drug  relighelp_drug  \\\n",
       "0              1                 1  ...                 0               0   \n",
       "1              1                 1  ...                 0               0   \n",
       "2              1                 1  ...                 1               1   \n",
       "3              1                 1  ...                 1               1   \n",
       "4              1                 1  ...                 0               0   \n",
       "\n",
       "   prevention_curriculum  sel  behav_mod  mentoring  peer_mediation  \\\n",
       "0                      1    1          1          1               0   \n",
       "1                      1    0          1          1               0   \n",
       "2                      1    1          1          1               1   \n",
       "3                      1    1          1          1               1   \n",
       "4                      1    0          1          1               0   \n",
       "\n",
       "   student_court  restorative_circles  promote_community  \n",
       "0              0                    0                  1  \n",
       "1              0                    0                  0  \n",
       "2              0                    0                  1  \n",
       "3              0                    1                  1  \n",
       "4              0                    0                  0  \n",
       "\n",
       "[5 rows x 49 columns]"
      ]
     },
     "execution_count": 5,
     "metadata": {
      "tags": []
     },
     "output_type": "execute_result"
    }
   ],
   "source": [
    "df.head()"
   ]
  },
  {
   "cell_type": "code",
   "execution_count": null,
   "metadata": {
    "id": "42XjBn0p4hFm"
   },
   "outputs": [],
   "source": [
    "le = LabelEncoder()\n",
    "df.school_type = le.fit_transform(df.school_type)"
   ]
  },
  {
   "cell_type": "code",
   "execution_count": null,
   "metadata": {
    "id": "TJeTUv2R4hFn",
    "outputId": "b485448e-0b7e-4e1b-c16c-e73e91de2b49"
   },
   "outputs": [
    {
     "data": {
      "text/html": [
       "<div>\n",
       "<style scoped>\n",
       "    .dataframe tbody tr th:only-of-type {\n",
       "        vertical-align: middle;\n",
       "    }\n",
       "\n",
       "    .dataframe tbody tr th {\n",
       "        vertical-align: top;\n",
       "    }\n",
       "\n",
       "    .dataframe thead th {\n",
       "        text-align: right;\n",
       "    }\n",
       "</style>\n",
       "<table border=\"1\" class=\"dataframe\">\n",
       "  <thead>\n",
       "    <tr style=\"text-align: right;\">\n",
       "      <th></th>\n",
       "      <th>total_incidentslog1p</th>\n",
       "      <th>percentlowgradeslog1p</th>\n",
       "      <th>percentacadnotimptlog1p</th>\n",
       "      <th>school_size</th>\n",
       "      <th>urban</th>\n",
       "      <th>crime_live_recode</th>\n",
       "      <th>crime_area_recode</th>\n",
       "      <th>school_type</th>\n",
       "      <th>visitor_badge</th>\n",
       "      <th>control_building</th>\n",
       "      <th>...</th>\n",
       "      <th>privatehelp_drug</th>\n",
       "      <th>relighelp_drug</th>\n",
       "      <th>prevention_curriculum</th>\n",
       "      <th>sel</th>\n",
       "      <th>behav_mod</th>\n",
       "      <th>mentoring</th>\n",
       "      <th>peer_mediation</th>\n",
       "      <th>student_court</th>\n",
       "      <th>restorative_circles</th>\n",
       "      <th>promote_community</th>\n",
       "    </tr>\n",
       "  </thead>\n",
       "  <tbody>\n",
       "    <tr>\n",
       "      <th>0</th>\n",
       "      <td>2.397895</td>\n",
       "      <td>2.772589</td>\n",
       "      <td>3.433987</td>\n",
       "      <td>3</td>\n",
       "      <td>1</td>\n",
       "      <td>1</td>\n",
       "      <td>1</td>\n",
       "      <td>2</td>\n",
       "      <td>1</td>\n",
       "      <td>1</td>\n",
       "      <td>...</td>\n",
       "      <td>0</td>\n",
       "      <td>0</td>\n",
       "      <td>1</td>\n",
       "      <td>1</td>\n",
       "      <td>1</td>\n",
       "      <td>1</td>\n",
       "      <td>0</td>\n",
       "      <td>0</td>\n",
       "      <td>0</td>\n",
       "      <td>1</td>\n",
       "    </tr>\n",
       "    <tr>\n",
       "      <th>1</th>\n",
       "      <td>2.833213</td>\n",
       "      <td>1.791759</td>\n",
       "      <td>4.394449</td>\n",
       "      <td>2</td>\n",
       "      <td>0</td>\n",
       "      <td>1</td>\n",
       "      <td>1</td>\n",
       "      <td>2</td>\n",
       "      <td>1</td>\n",
       "      <td>1</td>\n",
       "      <td>...</td>\n",
       "      <td>0</td>\n",
       "      <td>0</td>\n",
       "      <td>1</td>\n",
       "      <td>0</td>\n",
       "      <td>1</td>\n",
       "      <td>1</td>\n",
       "      <td>0</td>\n",
       "      <td>0</td>\n",
       "      <td>0</td>\n",
       "      <td>0</td>\n",
       "    </tr>\n",
       "    <tr>\n",
       "      <th>2</th>\n",
       "      <td>2.564949</td>\n",
       "      <td>1.791759</td>\n",
       "      <td>1.791759</td>\n",
       "      <td>3</td>\n",
       "      <td>1</td>\n",
       "      <td>1</td>\n",
       "      <td>1</td>\n",
       "      <td>2</td>\n",
       "      <td>1</td>\n",
       "      <td>1</td>\n",
       "      <td>...</td>\n",
       "      <td>1</td>\n",
       "      <td>1</td>\n",
       "      <td>1</td>\n",
       "      <td>1</td>\n",
       "      <td>1</td>\n",
       "      <td>1</td>\n",
       "      <td>1</td>\n",
       "      <td>0</td>\n",
       "      <td>0</td>\n",
       "      <td>1</td>\n",
       "    </tr>\n",
       "    <tr>\n",
       "      <th>3</th>\n",
       "      <td>3.258097</td>\n",
       "      <td>2.397895</td>\n",
       "      <td>2.772589</td>\n",
       "      <td>4</td>\n",
       "      <td>1</td>\n",
       "      <td>1</td>\n",
       "      <td>1</td>\n",
       "      <td>1</td>\n",
       "      <td>1</td>\n",
       "      <td>1</td>\n",
       "      <td>...</td>\n",
       "      <td>1</td>\n",
       "      <td>1</td>\n",
       "      <td>1</td>\n",
       "      <td>1</td>\n",
       "      <td>1</td>\n",
       "      <td>1</td>\n",
       "      <td>1</td>\n",
       "      <td>0</td>\n",
       "      <td>1</td>\n",
       "      <td>1</td>\n",
       "    </tr>\n",
       "    <tr>\n",
       "      <th>4</th>\n",
       "      <td>1.098612</td>\n",
       "      <td>1.386294</td>\n",
       "      <td>1.098612</td>\n",
       "      <td>3</td>\n",
       "      <td>1</td>\n",
       "      <td>1</td>\n",
       "      <td>1</td>\n",
       "      <td>2</td>\n",
       "      <td>1</td>\n",
       "      <td>1</td>\n",
       "      <td>...</td>\n",
       "      <td>0</td>\n",
       "      <td>0</td>\n",
       "      <td>1</td>\n",
       "      <td>0</td>\n",
       "      <td>1</td>\n",
       "      <td>1</td>\n",
       "      <td>0</td>\n",
       "      <td>0</td>\n",
       "      <td>0</td>\n",
       "      <td>0</td>\n",
       "    </tr>\n",
       "  </tbody>\n",
       "</table>\n",
       "<p>5 rows × 49 columns</p>\n",
       "</div>"
      ],
      "text/plain": [
       "   total_incidentslog1p  percentlowgradeslog1p  percentacadnotimptlog1p  \\\n",
       "0              2.397895               2.772589                 3.433987   \n",
       "1              2.833213               1.791759                 4.394449   \n",
       "2              2.564949               1.791759                 1.791759   \n",
       "3              3.258097               2.397895                 2.772589   \n",
       "4              1.098612               1.386294                 1.098612   \n",
       "\n",
       "   school_size  urban  crime_live_recode  crime_area_recode  school_type  \\\n",
       "0            3      1                  1                  1            2   \n",
       "1            2      0                  1                  1            2   \n",
       "2            3      1                  1                  1            2   \n",
       "3            4      1                  1                  1            1   \n",
       "4            3      1                  1                  1            2   \n",
       "\n",
       "   visitor_badge  control_building  ...  privatehelp_drug  relighelp_drug  \\\n",
       "0              1                 1  ...                 0               0   \n",
       "1              1                 1  ...                 0               0   \n",
       "2              1                 1  ...                 1               1   \n",
       "3              1                 1  ...                 1               1   \n",
       "4              1                 1  ...                 0               0   \n",
       "\n",
       "   prevention_curriculum  sel  behav_mod  mentoring  peer_mediation  \\\n",
       "0                      1    1          1          1               0   \n",
       "1                      1    0          1          1               0   \n",
       "2                      1    1          1          1               1   \n",
       "3                      1    1          1          1               1   \n",
       "4                      1    0          1          1               0   \n",
       "\n",
       "   student_court  restorative_circles  promote_community  \n",
       "0              0                    0                  1  \n",
       "1              0                    0                  0  \n",
       "2              0                    0                  1  \n",
       "3              0                    1                  1  \n",
       "4              0                    0                  0  \n",
       "\n",
       "[5 rows x 49 columns]"
      ]
     },
     "execution_count": 9,
     "metadata": {
      "tags": []
     },
     "output_type": "execute_result"
    }
   ],
   "source": [
    "df.head()"
   ]
  },
  {
   "cell_type": "markdown",
   "metadata": {
    "id": "tcAvL9mP4hFn"
   },
   "source": [
    "## Hyperparamter Tuning for Random Forest Model and Evaluation"
   ]
  },
  {
   "cell_type": "code",
   "execution_count": null,
   "metadata": {
    "id": "saC5kyp84hFo"
   },
   "outputs": [],
   "source": [
    "y = df.total_incidentslog1p\n",
    "\n",
    "X = df.iloc[:, 1:49]"
   ]
  },
  {
   "cell_type": "code",
   "execution_count": null,
   "metadata": {
    "id": "UiUUaECn4hFo"
   },
   "outputs": [],
   "source": [
    "X_train, X_test, y_train, y_test = train_test_split(X, y,test_size = 0.2, random_state=42)"
   ]
  },
  {
   "cell_type": "code",
   "execution_count": null,
   "metadata": {
    "id": "R1tVdSQp4hFo"
   },
   "outputs": [],
   "source": [
    "# Number of trees in random forest\n",
    "n_estimators = [int(x) for x in np.linspace(start = 200, stop = 2000, num = 10)]\n",
    "# Maximum number of levels in tree\n",
    "max_depth = [int(x) for x in np.linspace(10, 110, num = 11)]\n",
    "max_depth.append(None)\n",
    "# Minimum number of samples required to split a node\n",
    "min_samples_split = [2, 5, 10]\n",
    "# Minimum number of samples required at each leaf node\n",
    "min_samples_leaf = [1, 2, 4]\n",
    "# Method of selecting samples for training each tree\n",
    "bootstrap = [True, False]\n",
    "# Create the random grid\n",
    "random_grid = {'n_estimators': n_estimators,\n",
    "               'max_depth': max_depth,\n",
    "               'min_samples_split': min_samples_split,\n",
    "               'min_samples_leaf': min_samples_leaf,\n",
    "               'bootstrap': bootstrap}"
   ]
  },
  {
   "cell_type": "code",
   "execution_count": null,
   "metadata": {
    "id": "p0F3zmKp4hFp"
   },
   "outputs": [],
   "source": [
    "# Use the random grid to search for best hyperparameters\n",
    "# First create the base model to tune\n",
    "rf = RandomForestRegressor(max_features = 'sqrt', random_state=42)\n",
    "# Random search of parameters, using 3 fold cross validation, \n",
    "# search across 100 different combinations, and use all available cores\n",
    "rf_random = RandomizedSearchCV(estimator = rf, param_distributions = random_grid, n_iter = 100, cv = 5, verbose=2, random_state=42)\n",
    "# Fit the random search model\n",
    "rf_random.fit(X_train, y_train)"
   ]
  },
  {
   "cell_type": "code",
   "execution_count": null,
   "metadata": {
    "id": "5m8V_q1h4hFp",
    "outputId": "43239c28-787a-4479-bc5e-c68d35928b2f"
   },
   "outputs": [
    {
     "data": {
      "text/plain": [
       "{'n_estimators': 800,\n",
       " 'min_samples_split': 2,\n",
       " 'min_samples_leaf': 2,\n",
       " 'max_depth': 30,\n",
       " 'bootstrap': False}"
      ]
     },
     "execution_count": 39,
     "metadata": {
      "tags": []
     },
     "output_type": "execute_result"
    }
   ],
   "source": [
    "rf_random.best_params_"
   ]
  },
  {
   "cell_type": "code",
   "execution_count": null,
   "metadata": {
    "id": "qWAgXj2X4hFq"
   },
   "outputs": [],
   "source": [
    "param_gridcv = {\n",
    "    'bootstrap': [False],\n",
    "    'max_depth': [30, 40, 50],\n",
    "    'min_samples_leaf': [2, 3, 4],\n",
    "    'min_samples_split': [2, 3, 4],\n",
    "    'n_estimators': [700, 800, 900, 1000]\n",
    "}"
   ]
  },
  {
   "cell_type": "code",
   "execution_count": null,
   "metadata": {
    "id": "skiEX2Dy4hFq"
   },
   "outputs": [],
   "source": [
    "rf = RandomForestRegressor(max_features = 'sqrt', random_state=42) #same as above#\n",
    "\n",
    "grid = GridSearchCV(estimator = rf, param_grid = param_gridcv, \n",
    "                          cv = 5, verbose = 2)"
   ]
  },
  {
   "cell_type": "code",
   "execution_count": null,
   "metadata": {
    "id": "2gaa-2Hw4hFq"
   },
   "outputs": [],
   "source": [
    "grid.fit(X_train, y_train)"
   ]
  },
  {
   "cell_type": "code",
   "execution_count": null,
   "metadata": {
    "id": "iOz3LWGK4hFr",
    "outputId": "2fd4f82e-0285-4eb8-f7ef-fe9e74e3b8ae"
   },
   "outputs": [
    {
     "data": {
      "text/plain": [
       "{'bootstrap': False,\n",
       " 'max_depth': 30,\n",
       " 'min_samples_leaf': 2,\n",
       " 'min_samples_split': 2,\n",
       " 'n_estimators': 800}"
      ]
     },
     "execution_count": 45,
     "metadata": {
      "tags": []
     },
     "output_type": "execute_result"
    }
   ],
   "source": [
    "grid.best_params_"
   ]
  },
  {
   "cell_type": "code",
   "execution_count": null,
   "metadata": {
    "id": "8dN83Zud4hFr",
    "outputId": "964ab0e6-cf06-456c-f704-696c78749dcb"
   },
   "outputs": [
    {
     "name": "stdout",
     "output_type": "stream",
     "text": [
      "RF train R_squared: 0.388\n"
     ]
    }
   ],
   "source": [
    "print(\"RF train R_squared: %0.3f\" % grid.best_score_)"
   ]
  },
  {
   "cell_type": "code",
   "execution_count": null,
   "metadata": {
    "id": "1DQGEpjr4hFs",
    "outputId": "20166718-5565-4be1-c6e5-ee7d955d0d5b"
   },
   "outputs": [
    {
     "name": "stdout",
     "output_type": "stream",
     "text": [
      "RF test R_squared: 0.398\n"
     ]
    }
   ],
   "source": [
    "print(\"RF test R_squared: %0.3f\" % grid.score(X_test, y_test))"
   ]
  },
  {
   "cell_type": "code",
   "execution_count": null,
   "metadata": {
    "id": "k1WRHQle4hFs"
   },
   "outputs": [],
   "source": [
    "def model_eval_metrics(y_true, y_pred,classification=\"TRUE\"):\n",
    "     if classification==\"TRUE\":\n",
    "        accuracy_eval = accuracy_score(y_true, y_pred)\n",
    "        f1_score_eval = f1_score(y_true, y_pred,average=\"macro\",zero_division=0)\n",
    "        precision_eval = precision_score(y_true, y_pred,average=\"macro\",zero_division=0)\n",
    "        recall_eval = recall_score(y_true, y_pred,average=\"macro\",zero_division=0)\n",
    "        mse_eval = 0\n",
    "        rmse_eval = 0\n",
    "        mae_eval = 0\n",
    "        r2_eval = 0\n",
    "        metricdata = {'accuracy': [accuracy_eval], 'f1_score': [f1_score_eval], 'precision': [precision_eval], 'recall': [recall_eval], 'mse': [mse_eval], 'rmse': [rmse_eval], 'mae': [mae_eval], 'r2': [r2_eval]}\n",
    "        finalmetricdata = pd.DataFrame.from_dict(metricdata)\n",
    "     else:\n",
    "        accuracy_eval = 0\n",
    "        f1_score_eval = 0\n",
    "        precision_eval = 0\n",
    "        recall_eval = 0\n",
    "        mse_eval = mean_squared_error(y_true, y_pred)\n",
    "        rmse_eval = sqrt(mean_squared_error(y_true, y_pred))\n",
    "        mae_eval = mean_absolute_error(y_true, y_pred)\n",
    "        r2_eval = r2_score(y_true, y_pred)\n",
    "        metricdata = {'accuracy': [accuracy_eval], 'f1_score': [f1_score_eval], 'precision': [precision_eval], 'recall': [recall_eval], 'mse': [mse_eval], 'rmse': [rmse_eval], 'mae': [mae_eval], 'r2': [r2_eval]}\n",
    "        finalmetricdata = pd.DataFrame.from_dict(metricdata)\n",
    "     return finalmetricdata"
   ]
  },
  {
   "cell_type": "code",
   "execution_count": null,
   "metadata": {
    "id": "Tu81wXTL4hFt"
   },
   "outputs": [],
   "source": [
    "final_rf = RandomForestRegressor(bootstrap = False,\n",
    " max_depth = 30,\n",
    " min_samples_leaf = 2,\n",
    " min_samples_split = 2,\n",
    " n_estimators = 800, max_features = 'sqrt', random_state=42)"
   ]
  },
  {
   "cell_type": "code",
   "execution_count": null,
   "metadata": {
    "id": "SOhjf27M4hFt",
    "outputId": "57b9cd5d-65c6-4362-f45e-4f55fb303d30"
   },
   "outputs": [
    {
     "data": {
      "text/plain": [
       "RandomForestRegressor(bootstrap=False, max_depth=30, max_features='sqrt',\n",
       "                      min_samples_leaf=2, n_estimators=800, random_state=42)"
      ]
     },
     "execution_count": 56,
     "metadata": {
      "tags": []
     },
     "output_type": "execute_result"
    }
   ],
   "source": [
    "final_rf.fit(X_train, y_train)"
   ]
  },
  {
   "cell_type": "code",
   "execution_count": null,
   "metadata": {
    "id": "9jyvXs3M4hFt"
   },
   "outputs": [],
   "source": [
    "y_pred = final_rf.predict(X_test)"
   ]
  },
  {
   "cell_type": "code",
   "execution_count": null,
   "metadata": {
    "id": "k7aMgeMX4hFu",
    "outputId": "11cbbe0d-f706-47e9-8b64-0862ed7e23f1"
   },
   "outputs": [
    {
     "data": {
      "text/html": [
       "<div>\n",
       "<style scoped>\n",
       "    .dataframe tbody tr th:only-of-type {\n",
       "        vertical-align: middle;\n",
       "    }\n",
       "\n",
       "    .dataframe tbody tr th {\n",
       "        vertical-align: top;\n",
       "    }\n",
       "\n",
       "    .dataframe thead th {\n",
       "        text-align: right;\n",
       "    }\n",
       "</style>\n",
       "<table border=\"1\" class=\"dataframe\">\n",
       "  <thead>\n",
       "    <tr style=\"text-align: right;\">\n",
       "      <th></th>\n",
       "      <th>accuracy</th>\n",
       "      <th>f1_score</th>\n",
       "      <th>precision</th>\n",
       "      <th>recall</th>\n",
       "      <th>mse</th>\n",
       "      <th>rmse</th>\n",
       "      <th>mae</th>\n",
       "      <th>r2</th>\n",
       "    </tr>\n",
       "  </thead>\n",
       "  <tbody>\n",
       "    <tr>\n",
       "      <th>0</th>\n",
       "      <td>0</td>\n",
       "      <td>0</td>\n",
       "      <td>0</td>\n",
       "      <td>0</td>\n",
       "      <td>1.086113</td>\n",
       "      <td>1.042167</td>\n",
       "      <td>0.818344</td>\n",
       "      <td>0.398287</td>\n",
       "    </tr>\n",
       "  </tbody>\n",
       "</table>\n",
       "</div>"
      ],
      "text/plain": [
       "   accuracy  f1_score  precision  recall       mse      rmse       mae  \\\n",
       "0         0         0          0       0  1.086113  1.042167  0.818344   \n",
       "\n",
       "         r2  \n",
       "0  0.398287  "
      ]
     },
     "execution_count": 60,
     "metadata": {
      "tags": []
     },
     "output_type": "execute_result"
    }
   ],
   "source": [
    "model_eval_metrics(y_test, y_pred, classification = False)"
   ]
  },
  {
   "cell_type": "markdown",
   "metadata": {
    "id": "DB3vjpZG4hFu"
   },
   "source": [
    "### Vs Base Model (For Comparison)"
   ]
  },
  {
   "cell_type": "code",
   "execution_count": null,
   "metadata": {
    "id": "D2AhKPPN4hFu"
   },
   "outputs": [],
   "source": [
    "base_rf = RandomForestRegressor(random_state=42)"
   ]
  },
  {
   "cell_type": "code",
   "execution_count": null,
   "metadata": {
    "id": "Out27IW04hFv",
    "outputId": "e0da8c46-af1b-48bb-d717-4f5c4db6adf4"
   },
   "outputs": [
    {
     "data": {
      "text/plain": [
       "RandomForestRegressor(random_state=42)"
      ]
     },
     "execution_count": 64,
     "metadata": {
      "tags": []
     },
     "output_type": "execute_result"
    }
   ],
   "source": [
    "base_rf.fit(X_train, y_train)"
   ]
  },
  {
   "cell_type": "code",
   "execution_count": null,
   "metadata": {
    "id": "c-UfAVlQ4hFv"
   },
   "outputs": [],
   "source": [
    "y_pred_base = base_rf.predict(X_test)"
   ]
  },
  {
   "cell_type": "code",
   "execution_count": null,
   "metadata": {
    "id": "cwmYRA414hFv",
    "outputId": "784c54ef-0ee0-4d9e-928f-9bf9990557ca"
   },
   "outputs": [
    {
     "data": {
      "text/html": [
       "<div>\n",
       "<style scoped>\n",
       "    .dataframe tbody tr th:only-of-type {\n",
       "        vertical-align: middle;\n",
       "    }\n",
       "\n",
       "    .dataframe tbody tr th {\n",
       "        vertical-align: top;\n",
       "    }\n",
       "\n",
       "    .dataframe thead th {\n",
       "        text-align: right;\n",
       "    }\n",
       "</style>\n",
       "<table border=\"1\" class=\"dataframe\">\n",
       "  <thead>\n",
       "    <tr style=\"text-align: right;\">\n",
       "      <th></th>\n",
       "      <th>accuracy</th>\n",
       "      <th>f1_score</th>\n",
       "      <th>precision</th>\n",
       "      <th>recall</th>\n",
       "      <th>mse</th>\n",
       "      <th>rmse</th>\n",
       "      <th>mae</th>\n",
       "      <th>r2</th>\n",
       "    </tr>\n",
       "  </thead>\n",
       "  <tbody>\n",
       "    <tr>\n",
       "      <th>0</th>\n",
       "      <td>0</td>\n",
       "      <td>0</td>\n",
       "      <td>0</td>\n",
       "      <td>0</td>\n",
       "      <td>1.116146</td>\n",
       "      <td>1.056478</td>\n",
       "      <td>0.824189</td>\n",
       "      <td>0.381648</td>\n",
       "    </tr>\n",
       "  </tbody>\n",
       "</table>\n",
       "</div>"
      ],
      "text/plain": [
       "   accuracy  f1_score  precision  recall       mse      rmse       mae  \\\n",
       "0         0         0          0       0  1.116146  1.056478  0.824189   \n",
       "\n",
       "         r2  \n",
       "0  0.381648  "
      ]
     },
     "execution_count": 68,
     "metadata": {
      "tags": []
     },
     "output_type": "execute_result"
    }
   ],
   "source": [
    "model_eval_metrics(y_test, y_pred_base, classification = False)"
   ]
  },
  {
   "cell_type": "markdown",
   "metadata": {
    "id": "FYkVK_Af4hFv"
   },
   "source": [
    "Indeed RMSE has fallen, and r^2 is slightly better for `final_rf`, relative to the untuned `base_rf`."
   ]
  },
  {
   "cell_type": "markdown",
   "metadata": {
    "id": "dm_wONdI4hFw"
   },
   "source": [
    "## Permutation Importance without Clustering"
   ]
  },
  {
   "cell_type": "markdown",
   "metadata": {
    "id": "bRurBZpy4hFw"
   },
   "source": [
    "Why permutation importances and not feature importances? Because impurity-based feature importances are subject to cardinality of features, and favour high cardinality features (e.g., numerical features with large scales). Feature importances are also usually calculated only on a single set of data, and cannot be evaluated on a held-out validation set, to check for the generalisability of these permutation importances. \n",
    "\n",
    "Permutation-based importances overcome these issues."
   ]
  },
  {
   "cell_type": "markdown",
   "metadata": {
    "id": "s3JFGYWX4hFw"
   },
   "source": [
    "**How to Interpet**:\n",
    "The values here are the change in R^2 or RMSE for a given model, should this feature be randomly permuted. "
   ]
  },
  {
   "cell_type": "markdown",
   "metadata": {
    "id": "Ijhord-_4hFw"
   },
   "source": [
    "### On Training Set"
   ]
  },
  {
   "cell_type": "markdown",
   "metadata": {
    "id": "xKcJ_7t64hFx"
   },
   "source": [
    "#### R-Squared"
   ]
  },
  {
   "cell_type": "code",
   "execution_count": null,
   "metadata": {
    "id": "WU52uQU84hFx"
   },
   "outputs": [],
   "source": [
    "from sklearn.inspection import permutation_importance\n",
    "r1 = permutation_importance(final_rf, X_train, y_train, n_repeats=30,random_state=42)"
   ]
  },
  {
   "cell_type": "code",
   "execution_count": null,
   "metadata": {
    "id": "YhYRmXrJ4hFz",
    "outputId": "aaa2fbee-5479-4d80-fbcb-724ca2819a1d"
   },
   "outputs": [
    {
     "name": "stdout",
     "output_type": "stream",
     "text": [
      "school_size 0.274 +/- 0.007\n",
      "school_type 0.187 +/- 0.006\n",
      "open_house 0.125 +/- 0.003\n",
      "percentacadnotimptlog1p 0.111 +/- 0.003\n",
      "crime_live_recode 0.100 +/- 0.003\n",
      "parent_teacher_conf 0.097 +/- 0.003\n",
      "percentlowgradeslog1p 0.090 +/- 0.002\n",
      "juvhelp_drug 0.075 +/- 0.003\n",
      "random_sweep 0.064 +/- 0.003\n",
      "crime_area_recode 0.058 +/- 0.003\n",
      "anonymous_report 0.057 +/- 0.003\n",
      "mhhelp_drug 0.047 +/- 0.002\n",
      "school_lockers 0.042 +/- 0.002\n",
      "prohibit_phone 0.039 +/- 0.002\n",
      "dress_code 0.037 +/- 0.001\n",
      "socialshelp_drug 0.032 +/- 0.001\n",
      "urban    0.030 +/- 0.001\n",
      "control_ground 0.026 +/- 0.001\n",
      "relighelp_drug 0.026 +/- 0.001\n",
      "civichelp_drug 0.023 +/- 0.001\n",
      "close_lunch 0.023 +/- 0.001\n",
      "student_id 0.022 +/- 0.001\n",
      "restorative_circles 0.021 +/- 0.001\n",
      "disciplinary_process 0.021 +/- 0.001\n",
      "staff_id 0.021 +/- 0.001\n",
      "privatehelp_drug 0.021 +/- 0.001\n",
      "parent_training_assist 0.020 +/- 0.001\n",
      "lock_inside 0.020 +/- 0.001\n",
      "emergency_notif 0.019 +/- 0.001\n",
      "peer_mediation 0.019 +/- 0.001\n",
      "parenthelp_drug 0.018 +/- 0.001\n",
      "panic_button 0.018 +/- 0.001\n",
      "radio    0.018 +/- 0.001\n",
      "lawhelp_drug 0.017 +/- 0.001\n",
      "wear_uniform 0.015 +/- 0.001\n",
      "security_camera 0.013 +/- 0.001\n",
      "promote_community 0.010 +/- 0.000\n",
      "drug_testing 0.008 +/- 0.000\n",
      "student_court 0.008 +/- 0.000\n",
      "sel      0.007 +/- 0.000\n",
      "random_check 0.005 +/- 0.000\n",
      "mentoring 0.005 +/- 0.000\n",
      "visitor_badge 0.003 +/- 0.000\n",
      "prevention_curriculum 0.003 +/- 0.000\n",
      "control_building 0.003 +/- 0.000\n",
      "behav_mod 0.003 +/- 0.000\n",
      "book_bags 0.002 +/- 0.000\n",
      "require_check 0.002 +/- 0.000\n"
     ]
    }
   ],
   "source": [
    "for i in r1.importances_mean.argsort()[::-1]:\n",
    "    if r1.importances_mean[i] - 2 * r1.importances_std[i] > 0:\n",
    "        print(f\"{X_train.columns.values[i]:<8}\" \" \"\n",
    "              f\"{r1.importances_mean[i]:.3f}\"\n",
    "              f\" +/- {r1.importances_std[i]:.3f}\")"
   ]
  },
  {
   "cell_type": "markdown",
   "metadata": {
    "id": "0p7wgVWG4hFz"
   },
   "source": [
    "#### RMSE"
   ]
  },
  {
   "cell_type": "code",
   "execution_count": null,
   "metadata": {
    "id": "9jAHCGP44hF0"
   },
   "outputs": [],
   "source": [
    "from sklearn.inspection import permutation_importance\n",
    "r1_1 = permutation_importance(final_rf, X_train, y_train, scoring = 'neg_root_mean_squared_error', n_repeats=30,random_state=42)"
   ]
  },
  {
   "cell_type": "code",
   "execution_count": null,
   "metadata": {
    "id": "yDkC4dxo4hF0",
    "outputId": "bc4ad9ac-705a-4be7-f8fa-5c180a5823dd"
   },
   "outputs": [
    {
     "name": "stdout",
     "output_type": "stream",
     "text": [
      "school_size 0.414 +/- 0.008\n",
      "school_type 0.309 +/- 0.008\n",
      "open_house 0.224 +/- 0.004\n",
      "percentacadnotimptlog1p 0.203 +/- 0.004\n",
      "crime_live_recode 0.186 +/- 0.005\n",
      "parent_teacher_conf 0.181 +/- 0.005\n",
      "percentlowgradeslog1p 0.170 +/- 0.004\n",
      "juvhelp_drug 0.146 +/- 0.004\n",
      "random_sweep 0.127 +/- 0.004\n",
      "crime_area_recode 0.116 +/- 0.005\n",
      "anonymous_report 0.114 +/- 0.005\n",
      "mhhelp_drug 0.095 +/- 0.003\n",
      "school_lockers 0.087 +/- 0.003\n",
      "prohibit_phone 0.082 +/- 0.003\n",
      "dress_code 0.077 +/- 0.003\n",
      "socialshelp_drug 0.068 +/- 0.003\n",
      "urban    0.065 +/- 0.002\n",
      "control_ground 0.056 +/- 0.002\n",
      "relighelp_drug 0.055 +/- 0.002\n",
      "civichelp_drug 0.050 +/- 0.002\n",
      "close_lunch 0.049 +/- 0.002\n",
      "student_id 0.048 +/- 0.002\n",
      "restorative_circles 0.046 +/- 0.002\n",
      "disciplinary_process 0.045 +/- 0.002\n",
      "staff_id 0.045 +/- 0.002\n",
      "privatehelp_drug 0.045 +/- 0.002\n",
      "parent_training_assist 0.043 +/- 0.002\n",
      "lock_inside 0.043 +/- 0.002\n",
      "emergency_notif 0.042 +/- 0.002\n",
      "peer_mediation 0.041 +/- 0.002\n",
      "parenthelp_drug 0.040 +/- 0.001\n",
      "panic_button 0.040 +/- 0.001\n",
      "radio    0.039 +/- 0.001\n",
      "lawhelp_drug 0.036 +/- 0.001\n",
      "wear_uniform 0.032 +/- 0.002\n",
      "security_camera 0.029 +/- 0.001\n",
      "promote_community 0.022 +/- 0.001\n",
      "drug_testing 0.017 +/- 0.001\n",
      "student_court 0.017 +/- 0.001\n",
      "sel      0.015 +/- 0.001\n",
      "random_check 0.012 +/- 0.001\n",
      "mentoring 0.010 +/- 0.001\n",
      "visitor_badge 0.007 +/- 0.001\n",
      "prevention_curriculum 0.007 +/- 0.000\n",
      "control_building 0.006 +/- 0.000\n",
      "behav_mod 0.006 +/- 0.000\n",
      "book_bags 0.005 +/- 0.000\n",
      "require_check 0.004 +/- 0.000\n"
     ]
    }
   ],
   "source": [
    "for i in r1_1.importances_mean.argsort()[::-1]:\n",
    "    if r1_1.importances_mean[i] - 2 * r1_1.importances_std[i] > 0:\n",
    "        print(f\"{X_train.columns.values[i]:<8}\" \" \"\n",
    "              f\"{r1_1.importances_mean[i]:.3f}\"\n",
    "              f\" +/- {r1_1.importances_std[i]:.3f}\")"
   ]
  },
  {
   "cell_type": "markdown",
   "metadata": {
    "id": "3nByoI4I4hF1"
   },
   "source": [
    "### On Test Set"
   ]
  },
  {
   "cell_type": "markdown",
   "metadata": {
    "id": "Ld0N-f_y4hF1"
   },
   "source": [
    "#### R-Squared"
   ]
  },
  {
   "cell_type": "code",
   "execution_count": null,
   "metadata": {
    "id": "toN10HjF4hF1"
   },
   "outputs": [],
   "source": [
    "from sklearn.inspection import permutation_importance\n",
    "r2 = permutation_importance(final_rf, X_test, y_test, n_repeats=30,random_state=42)"
   ]
  },
  {
   "cell_type": "code",
   "execution_count": null,
   "metadata": {
    "id": "APs5_X4a4hF1",
    "outputId": "8931f959-5e47-4bb2-fe57-7ce8a78eda12"
   },
   "outputs": [
    {
     "data": {
      "text/html": [
       "<div>\n",
       "<style scoped>\n",
       "    .dataframe tbody tr th:only-of-type {\n",
       "        vertical-align: middle;\n",
       "    }\n",
       "\n",
       "    .dataframe tbody tr th {\n",
       "        vertical-align: top;\n",
       "    }\n",
       "\n",
       "    .dataframe thead th {\n",
       "        text-align: right;\n",
       "    }\n",
       "</style>\n",
       "<table border=\"1\" class=\"dataframe\">\n",
       "  <thead>\n",
       "    <tr style=\"text-align: right;\">\n",
       "      <th></th>\n",
       "      <th>percentlowgradeslog1p</th>\n",
       "      <th>percentacadnotimptlog1p</th>\n",
       "      <th>school_size</th>\n",
       "      <th>urban</th>\n",
       "      <th>crime_live_recode</th>\n",
       "      <th>crime_area_recode</th>\n",
       "      <th>school_type</th>\n",
       "      <th>visitor_badge</th>\n",
       "      <th>control_building</th>\n",
       "      <th>control_ground</th>\n",
       "      <th>...</th>\n",
       "      <th>privatehelp_drug</th>\n",
       "      <th>relighelp_drug</th>\n",
       "      <th>prevention_curriculum</th>\n",
       "      <th>sel</th>\n",
       "      <th>behav_mod</th>\n",
       "      <th>mentoring</th>\n",
       "      <th>peer_mediation</th>\n",
       "      <th>student_court</th>\n",
       "      <th>restorative_circles</th>\n",
       "      <th>promote_community</th>\n",
       "    </tr>\n",
       "  </thead>\n",
       "  <tbody>\n",
       "    <tr>\n",
       "      <th>367</th>\n",
       "      <td>1.791759</td>\n",
       "      <td>1.791759</td>\n",
       "      <td>4</td>\n",
       "      <td>1</td>\n",
       "      <td>1</td>\n",
       "      <td>1</td>\n",
       "      <td>1</td>\n",
       "      <td>1</td>\n",
       "      <td>1</td>\n",
       "      <td>1</td>\n",
       "      <td>...</td>\n",
       "      <td>0</td>\n",
       "      <td>1</td>\n",
       "      <td>0</td>\n",
       "      <td>0</td>\n",
       "      <td>1</td>\n",
       "      <td>1</td>\n",
       "      <td>1</td>\n",
       "      <td>0</td>\n",
       "      <td>0</td>\n",
       "      <td>1</td>\n",
       "    </tr>\n",
       "    <tr>\n",
       "      <th>2760</th>\n",
       "      <td>2.397895</td>\n",
       "      <td>2.397895</td>\n",
       "      <td>3</td>\n",
       "      <td>1</td>\n",
       "      <td>2</td>\n",
       "      <td>1</td>\n",
       "      <td>1</td>\n",
       "      <td>1</td>\n",
       "      <td>1</td>\n",
       "      <td>0</td>\n",
       "      <td>...</td>\n",
       "      <td>0</td>\n",
       "      <td>0</td>\n",
       "      <td>1</td>\n",
       "      <td>1</td>\n",
       "      <td>1</td>\n",
       "      <td>1</td>\n",
       "      <td>1</td>\n",
       "      <td>0</td>\n",
       "      <td>1</td>\n",
       "      <td>1</td>\n",
       "    </tr>\n",
       "    <tr>\n",
       "      <th>1330</th>\n",
       "      <td>2.397895</td>\n",
       "      <td>3.433987</td>\n",
       "      <td>3</td>\n",
       "      <td>0</td>\n",
       "      <td>1</td>\n",
       "      <td>1</td>\n",
       "      <td>2</td>\n",
       "      <td>1</td>\n",
       "      <td>1</td>\n",
       "      <td>0</td>\n",
       "      <td>...</td>\n",
       "      <td>0</td>\n",
       "      <td>0</td>\n",
       "      <td>1</td>\n",
       "      <td>1</td>\n",
       "      <td>1</td>\n",
       "      <td>1</td>\n",
       "      <td>1</td>\n",
       "      <td>1</td>\n",
       "      <td>1</td>\n",
       "      <td>1</td>\n",
       "    </tr>\n",
       "    <tr>\n",
       "      <th>2136</th>\n",
       "      <td>4.394449</td>\n",
       "      <td>0.000000</td>\n",
       "      <td>3</td>\n",
       "      <td>1</td>\n",
       "      <td>2</td>\n",
       "      <td>2</td>\n",
       "      <td>2</td>\n",
       "      <td>1</td>\n",
       "      <td>1</td>\n",
       "      <td>0</td>\n",
       "      <td>...</td>\n",
       "      <td>0</td>\n",
       "      <td>0</td>\n",
       "      <td>1</td>\n",
       "      <td>1</td>\n",
       "      <td>1</td>\n",
       "      <td>1</td>\n",
       "      <td>1</td>\n",
       "      <td>0</td>\n",
       "      <td>0</td>\n",
       "      <td>1</td>\n",
       "    </tr>\n",
       "    <tr>\n",
       "      <th>521</th>\n",
       "      <td>2.397895</td>\n",
       "      <td>3.044522</td>\n",
       "      <td>2</td>\n",
       "      <td>1</td>\n",
       "      <td>2</td>\n",
       "      <td>2</td>\n",
       "      <td>0</td>\n",
       "      <td>1</td>\n",
       "      <td>1</td>\n",
       "      <td>1</td>\n",
       "      <td>...</td>\n",
       "      <td>0</td>\n",
       "      <td>0</td>\n",
       "      <td>1</td>\n",
       "      <td>1</td>\n",
       "      <td>1</td>\n",
       "      <td>1</td>\n",
       "      <td>0</td>\n",
       "      <td>0</td>\n",
       "      <td>1</td>\n",
       "      <td>1</td>\n",
       "    </tr>\n",
       "    <tr>\n",
       "      <th>...</th>\n",
       "      <td>...</td>\n",
       "      <td>...</td>\n",
       "      <td>...</td>\n",
       "      <td>...</td>\n",
       "      <td>...</td>\n",
       "      <td>...</td>\n",
       "      <td>...</td>\n",
       "      <td>...</td>\n",
       "      <td>...</td>\n",
       "      <td>...</td>\n",
       "      <td>...</td>\n",
       "      <td>...</td>\n",
       "      <td>...</td>\n",
       "      <td>...</td>\n",
       "      <td>...</td>\n",
       "      <td>...</td>\n",
       "      <td>...</td>\n",
       "      <td>...</td>\n",
       "      <td>...</td>\n",
       "      <td>...</td>\n",
       "      <td>...</td>\n",
       "    </tr>\n",
       "    <tr>\n",
       "      <th>315</th>\n",
       "      <td>2.397895</td>\n",
       "      <td>2.397895</td>\n",
       "      <td>2</td>\n",
       "      <td>1</td>\n",
       "      <td>2</td>\n",
       "      <td>3</td>\n",
       "      <td>2</td>\n",
       "      <td>1</td>\n",
       "      <td>1</td>\n",
       "      <td>1</td>\n",
       "      <td>...</td>\n",
       "      <td>0</td>\n",
       "      <td>0</td>\n",
       "      <td>1</td>\n",
       "      <td>1</td>\n",
       "      <td>1</td>\n",
       "      <td>1</td>\n",
       "      <td>0</td>\n",
       "      <td>0</td>\n",
       "      <td>1</td>\n",
       "      <td>1</td>\n",
       "    </tr>\n",
       "    <tr>\n",
       "      <th>1724</th>\n",
       "      <td>2.772589</td>\n",
       "      <td>3.258097</td>\n",
       "      <td>4</td>\n",
       "      <td>1</td>\n",
       "      <td>1</td>\n",
       "      <td>1</td>\n",
       "      <td>1</td>\n",
       "      <td>1</td>\n",
       "      <td>1</td>\n",
       "      <td>0</td>\n",
       "      <td>...</td>\n",
       "      <td>1</td>\n",
       "      <td>1</td>\n",
       "      <td>0</td>\n",
       "      <td>0</td>\n",
       "      <td>1</td>\n",
       "      <td>1</td>\n",
       "      <td>1</td>\n",
       "      <td>0</td>\n",
       "      <td>0</td>\n",
       "      <td>1</td>\n",
       "    </tr>\n",
       "    <tr>\n",
       "      <th>764</th>\n",
       "      <td>2.772589</td>\n",
       "      <td>4.330733</td>\n",
       "      <td>1</td>\n",
       "      <td>0</td>\n",
       "      <td>1</td>\n",
       "      <td>1</td>\n",
       "      <td>2</td>\n",
       "      <td>1</td>\n",
       "      <td>1</td>\n",
       "      <td>0</td>\n",
       "      <td>...</td>\n",
       "      <td>0</td>\n",
       "      <td>0</td>\n",
       "      <td>1</td>\n",
       "      <td>1</td>\n",
       "      <td>1</td>\n",
       "      <td>1</td>\n",
       "      <td>0</td>\n",
       "      <td>0</td>\n",
       "      <td>0</td>\n",
       "      <td>0</td>\n",
       "    </tr>\n",
       "    <tr>\n",
       "      <th>1684</th>\n",
       "      <td>2.397895</td>\n",
       "      <td>2.772589</td>\n",
       "      <td>4</td>\n",
       "      <td>1</td>\n",
       "      <td>2</td>\n",
       "      <td>1</td>\n",
       "      <td>1</td>\n",
       "      <td>1</td>\n",
       "      <td>1</td>\n",
       "      <td>1</td>\n",
       "      <td>...</td>\n",
       "      <td>1</td>\n",
       "      <td>0</td>\n",
       "      <td>1</td>\n",
       "      <td>1</td>\n",
       "      <td>1</td>\n",
       "      <td>1</td>\n",
       "      <td>1</td>\n",
       "      <td>0</td>\n",
       "      <td>1</td>\n",
       "      <td>1</td>\n",
       "    </tr>\n",
       "    <tr>\n",
       "      <th>2323</th>\n",
       "      <td>0.000000</td>\n",
       "      <td>3.433987</td>\n",
       "      <td>1</td>\n",
       "      <td>1</td>\n",
       "      <td>2</td>\n",
       "      <td>1</td>\n",
       "      <td>2</td>\n",
       "      <td>1</td>\n",
       "      <td>1</td>\n",
       "      <td>0</td>\n",
       "      <td>...</td>\n",
       "      <td>0</td>\n",
       "      <td>0</td>\n",
       "      <td>1</td>\n",
       "      <td>0</td>\n",
       "      <td>0</td>\n",
       "      <td>1</td>\n",
       "      <td>0</td>\n",
       "      <td>0</td>\n",
       "      <td>0</td>\n",
       "      <td>1</td>\n",
       "    </tr>\n",
       "  </tbody>\n",
       "</table>\n",
       "<p>553 rows × 48 columns</p>\n",
       "</div>"
      ],
      "text/plain": [
       "      percentlowgradeslog1p  percentacadnotimptlog1p  school_size  urban  \\\n",
       "367                1.791759                 1.791759            4      1   \n",
       "2760               2.397895                 2.397895            3      1   \n",
       "1330               2.397895                 3.433987            3      0   \n",
       "2136               4.394449                 0.000000            3      1   \n",
       "521                2.397895                 3.044522            2      1   \n",
       "...                     ...                      ...          ...    ...   \n",
       "315                2.397895                 2.397895            2      1   \n",
       "1724               2.772589                 3.258097            4      1   \n",
       "764                2.772589                 4.330733            1      0   \n",
       "1684               2.397895                 2.772589            4      1   \n",
       "2323               0.000000                 3.433987            1      1   \n",
       "\n",
       "      crime_live_recode  crime_area_recode  school_type  visitor_badge  \\\n",
       "367                   1                  1            1              1   \n",
       "2760                  2                  1            1              1   \n",
       "1330                  1                  1            2              1   \n",
       "2136                  2                  2            2              1   \n",
       "521                   2                  2            0              1   \n",
       "...                 ...                ...          ...            ...   \n",
       "315                   2                  3            2              1   \n",
       "1724                  1                  1            1              1   \n",
       "764                   1                  1            2              1   \n",
       "1684                  2                  1            1              1   \n",
       "2323                  2                  1            2              1   \n",
       "\n",
       "      control_building  control_ground  ...  privatehelp_drug  relighelp_drug  \\\n",
       "367                  1               1  ...                 0               1   \n",
       "2760                 1               0  ...                 0               0   \n",
       "1330                 1               0  ...                 0               0   \n",
       "2136                 1               0  ...                 0               0   \n",
       "521                  1               1  ...                 0               0   \n",
       "...                ...             ...  ...               ...             ...   \n",
       "315                  1               1  ...                 0               0   \n",
       "1724                 1               0  ...                 1               1   \n",
       "764                  1               0  ...                 0               0   \n",
       "1684                 1               1  ...                 1               0   \n",
       "2323                 1               0  ...                 0               0   \n",
       "\n",
       "      prevention_curriculum  sel  behav_mod  mentoring  peer_mediation  \\\n",
       "367                       0    0          1          1               1   \n",
       "2760                      1    1          1          1               1   \n",
       "1330                      1    1          1          1               1   \n",
       "2136                      1    1          1          1               1   \n",
       "521                       1    1          1          1               0   \n",
       "...                     ...  ...        ...        ...             ...   \n",
       "315                       1    1          1          1               0   \n",
       "1724                      0    0          1          1               1   \n",
       "764                       1    1          1          1               0   \n",
       "1684                      1    1          1          1               1   \n",
       "2323                      1    0          0          1               0   \n",
       "\n",
       "      student_court  restorative_circles  promote_community  \n",
       "367               0                    0                  1  \n",
       "2760              0                    1                  1  \n",
       "1330              1                    1                  1  \n",
       "2136              0                    0                  1  \n",
       "521               0                    1                  1  \n",
       "...             ...                  ...                ...  \n",
       "315               0                    1                  1  \n",
       "1724              0                    0                  1  \n",
       "764               0                    0                  0  \n",
       "1684              0                    1                  1  \n",
       "2323              0                    0                  1  \n",
       "\n",
       "[553 rows x 48 columns]"
      ]
     },
     "execution_count": 76,
     "metadata": {
      "tags": []
     },
     "output_type": "execute_result"
    }
   ],
   "source": [
    "X_test"
   ]
  },
  {
   "cell_type": "code",
   "execution_count": null,
   "metadata": {
    "id": "U78PeDU24hF2",
    "outputId": "54c3f951-89dc-4ad3-a15e-bae86174b333"
   },
   "outputs": [
    {
     "name": "stdout",
     "output_type": "stream",
     "text": [
      "school_size 0.177 +/- 0.015\n",
      "school_type 0.092 +/- 0.011\n",
      "open_house 0.021 +/- 0.006\n",
      "percentlowgradeslog1p 0.017 +/- 0.003\n",
      "percentacadnotimptlog1p 0.015 +/- 0.006\n",
      "parent_teacher_conf 0.014 +/- 0.005\n",
      "random_sweep 0.010 +/- 0.003\n",
      "school_lockers 0.006 +/- 0.002\n",
      "staff_id 0.003 +/- 0.001\n"
     ]
    }
   ],
   "source": [
    "for i in r2.importances_mean.argsort()[::-1]:\n",
    "    if r2.importances_mean[i] - 2 * r2.importances_std[i] > 0:\n",
    "        print(f\"{X_test.columns.values[i]:<8}\" \" \"\n",
    "              f\"{r2.importances_mean[i]:.3f}\"\n",
    "              f\" +/- {r2.importances_std[i]:.3f}\")"
   ]
  },
  {
   "cell_type": "markdown",
   "metadata": {
    "id": "Ob2QlSC24hF2"
   },
   "source": [
    "#### RMSE"
   ]
  },
  {
   "cell_type": "code",
   "execution_count": null,
   "metadata": {
    "id": "drDuhMmJ4hF3"
   },
   "outputs": [],
   "source": [
    "from sklearn.inspection import permutation_importance\n",
    "r2_1 = permutation_importance(final_rf, X_test, y_test, scoring = 'neg_root_mean_squared_error', n_repeats=30,random_state=42)"
   ]
  },
  {
   "cell_type": "code",
   "execution_count": null,
   "metadata": {
    "id": "5aa-7xFm4hF3",
    "outputId": "5079946b-72de-4788-d4b5-0527648049f1"
   },
   "outputs": [
    {
     "name": "stdout",
     "output_type": "stream",
     "text": [
      "school_size 0.143 +/- 0.012\n",
      "school_type 0.077 +/- 0.009\n",
      "open_house 0.018 +/- 0.005\n",
      "percentlowgradeslog1p 0.014 +/- 0.003\n",
      "percentacadnotimptlog1p 0.013 +/- 0.005\n",
      "parent_teacher_conf 0.012 +/- 0.004\n",
      "random_sweep 0.008 +/- 0.003\n",
      "school_lockers 0.005 +/- 0.002\n",
      "staff_id 0.002 +/- 0.001\n"
     ]
    }
   ],
   "source": [
    "for i in r2_1.importances_mean.argsort()[::-1]:\n",
    "    if r2_1.importances_mean[i] - 2 * r2_1.importances_std[i] > 0:\n",
    "        print(f\"{X_test.columns.values[i]:<8}\" \" \"\n",
    "              f\"{r2_1.importances_mean[i]:.3f}\"\n",
    "              f\" +/- {r2_1.importances_std[i]:.3f}\")"
   ]
  },
  {
   "cell_type": "markdown",
   "metadata": {
    "id": "1x_2eKCX4hF3"
   },
   "source": [
    "There are some notable convergences between the important variables identified in through Regression Modelling, and the variables uncovered as permutation importance in Machine Learning Modelling. \n",
    "\n",
    "The variables I included as proxies for SES, `percentlowgradeslog1p` and `percentacadnotimptlog1p` were surfaced as important throughout the machine learning models I tried, on training or test data. So were some key security features like `random_sweep` and parental involvement features like `parent_teacher_conf`.\n",
    "\n",
    "The machine learning approach for analyzing data, importantly, adds value to how social scientists have traditionally used datasets , through the Machine Learning Modelling process, we can consider far more variables than we could compared to Regression Modelling, which had to be theoretically driven; models in that segment had to be built hierarchically. \n",
    "\n",
    "Further, for the Machine Modelling section, Study 2a, the `train_test_split` approach in Machine Learning allowed for two ways to assess the importance of a feature -- both on the training set (which tells us some information about the structure of the data) and on the test set (which tells us crucial information on how this Random Forest Model has learned from the training set, and what features might remain important when the Random Forest model is generalized to an unseen data set). \n",
    "\n",
    "I expect to have even more to discuss, and for this methodological approach to be even more interesting, when I consider more variables in the Study 2b part of this analysis. This is a methodological approach to consider for social scientists, and I intend to further discuss how so in the discussion section of the thesis. "
   ]
  },
  {
   "cell_type": "markdown",
   "metadata": {},
   "source": [
    "**References**\n",
    "\n",
    "Adadi, A., & Berrada, M. (2018). Peeking Inside the Black-Box: A Survey on Explainable Artificial Intelligence (XAI). IEEE Access, 6, 52138–52160. https://doi.org/10.1109/ACCESS.2018.2870052\n",
    "\n",
    "Breiman, L. (2001). Random Forests. Machine Learning, 45(1), 5–32. https://doi.org/10.1023/A:1010933404324\n",
    "\n",
    "Breiman, L. (2001). Statistical Modeling: The Two Cultures. Statistical Science, 16(3), 199–231. https://doi.org/10.1214/ss/1009213726\n",
    "\n",
    "Cloward, R. A., & Ohlin, L. E. (1960). Delinquency and Opportunity: A theory of delinquent gangs. Free Press.\n",
    "\n",
    "U. S. Department of Education (n.d.). School Survey on Crime and Safety (SSOCS) — Overview. Retrieved February 03, 2021, from https://nces.ed.gov/surveys/ssocs\n",
    "\n",
    "Yoo, W., Mayberry, R., Bae, S., Singh, K., Peter He, Q., & Lillard, J. W., Jr (2014). A Study of Effects of MultiCollinearity in the Multivariable Analysis. International Journal of Applied Science and Technology, 4(5), 9–19."
   ]
  }
 ],
 "metadata": {
  "colab": {
   "collapsed_sections": [
    "xKcJ_7t64hFx",
    "0p7wgVWG4hFz",
    "Ld0N-f_y4hF1",
    "Ob2QlSC24hF2"
   ],
   "name": "Study2a_8Mar.ipynb",
   "provenance": []
  },
  "kernelspec": {
   "display_name": "Python 3",
   "language": "python",
   "name": "python3"
  },
  "language_info": {
   "codemirror_mode": {
    "name": "ipython",
    "version": 3
   },
   "file_extension": ".py",
   "mimetype": "text/x-python",
   "name": "python",
   "nbconvert_exporter": "python",
   "pygments_lexer": "ipython3",
   "version": "3.7.6"
  }
 },
 "nbformat": 4,
 "nbformat_minor": 1
}
